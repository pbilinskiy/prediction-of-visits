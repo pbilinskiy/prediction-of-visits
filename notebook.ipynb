{
 "cells": [
  {
   "cell_type": "code",
   "execution_count": 20,
   "metadata": {},
   "outputs": [],
   "source": [
    "import numpy as np\n",
    "import matplotlib.pyplot as plt\n",
    "import seaborn as sns\n",
    "import pandas as pd\n",
    "\n",
    "df = pd.read_csv('data/train.csv', nrows = 2000, index_col = 0)\n",
    "\n",
    "n_days = 1099\n",
    "days_in_week = 7\n",
    "n_weeks = n_days // days_in_week\n",
    "if (n_days % days_in_week != 0): n_weeks += 1"
   ]
  },
  {
   "cell_type": "markdown",
   "metadata": {},
   "source": [
    "# For 1st consumer"
   ]
  },
  {
   "cell_type": "markdown",
   "metadata": {},
   "source": [
    "## Without weights (algorithm 0.1)\n",
    "Read data for 1 customer"
   ]
  },
  {
   "cell_type": "code",
   "execution_count": 21,
   "metadata": {},
   "outputs": [],
   "source": [
    "f = open('data/train.csv')\n",
    "f.readline()\n",
    "line = f.readline()\n",
    "ind, line = line.split(',')\n",
    "ind = str(ind)\n",
    "line = line.strip()\n",
    "visites = [int(s) for s in line.split(' ')];\n"
   ]
  },
  {
   "cell_type": "markdown",
   "metadata": {},
   "source": [
    "Make matrix of visits of customer"
   ]
  },
  {
   "cell_type": "code",
   "execution_count": 22,
   "metadata": {},
   "outputs": [],
   "source": [
    "\n",
    "\n",
    "def make_visit_matrix(visites):\n",
    "    V = np.zeros(shape = (n_weeks, 7), dtype = int)\n",
    "    for day in visites:\n",
    "        V[day // 7, day%7 - 1] = 1\n",
    "    V = pd.DataFrame(V, columns=['Mon', 'Tue', 'Wed', 'Thu', 'Fri', 'Sat', 'Sun'])\n",
    "    V.index = V.index + 1\n",
    "    return V\n",
    "    \n",
    "V = make_visit_matrix(visites)\n"
   ]
  },
  {
   "cell_type": "markdown",
   "metadata": {},
   "source": [
    "Drop empty weeks, leave last week for testing"
   ]
  },
  {
   "cell_type": "code",
   "execution_count": 23,
   "metadata": {},
   "outputs": [
    {
     "data": {
      "text/plain": [
       "Mon    0\n",
       "Tue    1\n",
       "Wed    0\n",
       "Thu    0\n",
       "Fri    0\n",
       "Sat    0\n",
       "Sun    0\n",
       "Name: 5, dtype: int64"
      ]
     },
     "execution_count": 23,
     "metadata": {},
     "output_type": "execute_result"
    }
   ],
   "source": [
    "for i in V.index:\n",
    "    if (not np.any(V.loc[i,:])):\n",
    "        V = V.drop(i)\n",
    "\n",
    "V_test = V.iloc[0]\n",
    "V = V.iloc[0:]\n",
    "n_weeks -= 1\n",
    "V_test"
   ]
  },
  {
   "cell_type": "code",
   "execution_count": 28,
   "metadata": {},
   "outputs": [
    {
     "data": {
      "text/html": [
       "<div>\n",
       "<style scoped>\n",
       "    .dataframe tbody tr th:only-of-type {\n",
       "        vertical-align: middle;\n",
       "    }\n",
       "\n",
       "    .dataframe tbody tr th {\n",
       "        vertical-align: top;\n",
       "    }\n",
       "\n",
       "    .dataframe thead th {\n",
       "        text-align: right;\n",
       "    }\n",
       "</style>\n",
       "<table border=\"1\" class=\"dataframe\">\n",
       "  <thead>\n",
       "    <tr style=\"text-align: right;\">\n",
       "      <th></th>\n",
       "      <th>Mon</th>\n",
       "      <th>Tue</th>\n",
       "      <th>Wed</th>\n",
       "      <th>Thu</th>\n",
       "      <th>Fri</th>\n",
       "      <th>Sat</th>\n",
       "      <th>Sun</th>\n",
       "    </tr>\n",
       "  </thead>\n",
       "  <tbody>\n",
       "    <tr>\n",
       "      <th>5</th>\n",
       "      <td>0.000000</td>\n",
       "      <td>0.012569</td>\n",
       "      <td>0.000000</td>\n",
       "      <td>0.000000</td>\n",
       "      <td>0.000000</td>\n",
       "      <td>0.000000</td>\n",
       "      <td>0.000000</td>\n",
       "    </tr>\n",
       "    <tr>\n",
       "      <th>13</th>\n",
       "      <td>0.000000</td>\n",
       "      <td>0.000000</td>\n",
       "      <td>0.000000</td>\n",
       "      <td>0.000000</td>\n",
       "      <td>0.000000</td>\n",
       "      <td>0.000000</td>\n",
       "      <td>0.011899</td>\n",
       "    </tr>\n",
       "    <tr>\n",
       "      <th>19</th>\n",
       "      <td>0.000000</td>\n",
       "      <td>0.000000</td>\n",
       "      <td>0.000000</td>\n",
       "      <td>0.000000</td>\n",
       "      <td>0.000000</td>\n",
       "      <td>0.000000</td>\n",
       "      <td>0.011396</td>\n",
       "    </tr>\n",
       "    <tr>\n",
       "      <th>20</th>\n",
       "      <td>0.000000</td>\n",
       "      <td>0.011312</td>\n",
       "      <td>0.000000</td>\n",
       "      <td>0.000000</td>\n",
       "      <td>0.000000</td>\n",
       "      <td>0.000000</td>\n",
       "      <td>0.000000</td>\n",
       "    </tr>\n",
       "    <tr>\n",
       "      <th>26</th>\n",
       "      <td>0.000000</td>\n",
       "      <td>0.000000</td>\n",
       "      <td>0.000000</td>\n",
       "      <td>0.010809</td>\n",
       "      <td>0.000000</td>\n",
       "      <td>0.000000</td>\n",
       "      <td>0.000000</td>\n",
       "    </tr>\n",
       "    <tr>\n",
       "      <th>35</th>\n",
       "      <td>0.000000</td>\n",
       "      <td>0.000000</td>\n",
       "      <td>0.000000</td>\n",
       "      <td>0.010055</td>\n",
       "      <td>0.000000</td>\n",
       "      <td>0.000000</td>\n",
       "      <td>0.000000</td>\n",
       "    </tr>\n",
       "    <tr>\n",
       "      <th>49</th>\n",
       "      <td>0.000000</td>\n",
       "      <td>0.000000</td>\n",
       "      <td>0.000000</td>\n",
       "      <td>0.000000</td>\n",
       "      <td>0.000000</td>\n",
       "      <td>0.008882</td>\n",
       "      <td>0.000000</td>\n",
       "    </tr>\n",
       "    <tr>\n",
       "      <th>61</th>\n",
       "      <td>0.000000</td>\n",
       "      <td>0.000000</td>\n",
       "      <td>0.000000</td>\n",
       "      <td>0.000000</td>\n",
       "      <td>0.000000</td>\n",
       "      <td>0.007877</td>\n",
       "      <td>0.000000</td>\n",
       "    </tr>\n",
       "    <tr>\n",
       "      <th>66</th>\n",
       "      <td>0.007458</td>\n",
       "      <td>0.000000</td>\n",
       "      <td>0.000000</td>\n",
       "      <td>0.000000</td>\n",
       "      <td>0.000000</td>\n",
       "      <td>0.000000</td>\n",
       "      <td>0.000000</td>\n",
       "    </tr>\n",
       "    <tr>\n",
       "      <th>67</th>\n",
       "      <td>0.000000</td>\n",
       "      <td>0.000000</td>\n",
       "      <td>0.000000</td>\n",
       "      <td>0.000000</td>\n",
       "      <td>0.000000</td>\n",
       "      <td>0.000000</td>\n",
       "      <td>0.007374</td>\n",
       "    </tr>\n",
       "    <tr>\n",
       "      <th>70</th>\n",
       "      <td>0.000000</td>\n",
       "      <td>0.000000</td>\n",
       "      <td>0.000000</td>\n",
       "      <td>0.000000</td>\n",
       "      <td>0.000000</td>\n",
       "      <td>0.000000</td>\n",
       "      <td>0.007123</td>\n",
       "    </tr>\n",
       "    <tr>\n",
       "      <th>85</th>\n",
       "      <td>0.000000</td>\n",
       "      <td>0.000000</td>\n",
       "      <td>0.000000</td>\n",
       "      <td>0.000000</td>\n",
       "      <td>0.000000</td>\n",
       "      <td>0.005866</td>\n",
       "      <td>0.000000</td>\n",
       "    </tr>\n",
       "    <tr>\n",
       "      <th>86</th>\n",
       "      <td>0.000000</td>\n",
       "      <td>0.000000</td>\n",
       "      <td>0.000000</td>\n",
       "      <td>0.000000</td>\n",
       "      <td>0.005782</td>\n",
       "      <td>0.000000</td>\n",
       "      <td>0.000000</td>\n",
       "    </tr>\n",
       "    <tr>\n",
       "      <th>87</th>\n",
       "      <td>0.000000</td>\n",
       "      <td>0.005698</td>\n",
       "      <td>0.000000</td>\n",
       "      <td>0.000000</td>\n",
       "      <td>0.000000</td>\n",
       "      <td>0.000000</td>\n",
       "      <td>0.000000</td>\n",
       "    </tr>\n",
       "    <tr>\n",
       "      <th>101</th>\n",
       "      <td>0.000000</td>\n",
       "      <td>0.000000</td>\n",
       "      <td>0.000000</td>\n",
       "      <td>0.004525</td>\n",
       "      <td>0.000000</td>\n",
       "      <td>0.000000</td>\n",
       "      <td>0.000000</td>\n",
       "    </tr>\n",
       "    <tr>\n",
       "      <th>104</th>\n",
       "      <td>0.000000</td>\n",
       "      <td>0.004274</td>\n",
       "      <td>0.000000</td>\n",
       "      <td>0.000000</td>\n",
       "      <td>0.000000</td>\n",
       "      <td>0.000000</td>\n",
       "      <td>0.000000</td>\n",
       "    </tr>\n",
       "    <tr>\n",
       "      <th>107</th>\n",
       "      <td>0.000000</td>\n",
       "      <td>0.004022</td>\n",
       "      <td>0.000000</td>\n",
       "      <td>0.000000</td>\n",
       "      <td>0.000000</td>\n",
       "      <td>0.000000</td>\n",
       "      <td>0.000000</td>\n",
       "    </tr>\n",
       "    <tr>\n",
       "      <th>113</th>\n",
       "      <td>0.000000</td>\n",
       "      <td>0.000000</td>\n",
       "      <td>0.003519</td>\n",
       "      <td>0.000000</td>\n",
       "      <td>0.000000</td>\n",
       "      <td>0.000000</td>\n",
       "      <td>0.000000</td>\n",
       "    </tr>\n",
       "    <tr>\n",
       "      <th>115</th>\n",
       "      <td>0.000000</td>\n",
       "      <td>0.000000</td>\n",
       "      <td>0.000000</td>\n",
       "      <td>0.000000</td>\n",
       "      <td>0.000000</td>\n",
       "      <td>0.003352</td>\n",
       "      <td>0.000000</td>\n",
       "    </tr>\n",
       "    <tr>\n",
       "      <th>127</th>\n",
       "      <td>0.000000</td>\n",
       "      <td>0.000000</td>\n",
       "      <td>0.000000</td>\n",
       "      <td>0.002346</td>\n",
       "      <td>0.000000</td>\n",
       "      <td>0.000000</td>\n",
       "      <td>0.000000</td>\n",
       "    </tr>\n",
       "    <tr>\n",
       "      <th>133</th>\n",
       "      <td>0.000000</td>\n",
       "      <td>0.000000</td>\n",
       "      <td>0.000000</td>\n",
       "      <td>0.001843</td>\n",
       "      <td>0.000000</td>\n",
       "      <td>0.000000</td>\n",
       "      <td>0.000000</td>\n",
       "    </tr>\n",
       "    <tr>\n",
       "      <th>136</th>\n",
       "      <td>0.001592</td>\n",
       "      <td>0.000000</td>\n",
       "      <td>0.000000</td>\n",
       "      <td>0.000000</td>\n",
       "      <td>0.000000</td>\n",
       "      <td>0.000000</td>\n",
       "      <td>0.000000</td>\n",
       "    </tr>\n",
       "    <tr>\n",
       "      <th>137</th>\n",
       "      <td>0.000000</td>\n",
       "      <td>0.001508</td>\n",
       "      <td>0.000000</td>\n",
       "      <td>0.000000</td>\n",
       "      <td>0.000000</td>\n",
       "      <td>0.000000</td>\n",
       "      <td>0.000000</td>\n",
       "    </tr>\n",
       "    <tr>\n",
       "      <th>149</th>\n",
       "      <td>0.000000</td>\n",
       "      <td>0.000000</td>\n",
       "      <td>0.000503</td>\n",
       "      <td>0.000000</td>\n",
       "      <td>0.000000</td>\n",
       "      <td>0.000000</td>\n",
       "      <td>0.000000</td>\n",
       "    </tr>\n",
       "    <tr>\n",
       "      <th>151</th>\n",
       "      <td>0.000000</td>\n",
       "      <td>0.000335</td>\n",
       "      <td>0.000000</td>\n",
       "      <td>0.000000</td>\n",
       "      <td>0.000000</td>\n",
       "      <td>0.000000</td>\n",
       "      <td>0.000000</td>\n",
       "    </tr>\n",
       "  </tbody>\n",
       "</table>\n",
       "</div>"
      ],
      "text/plain": [
       "          Mon       Tue       Wed       Thu       Fri       Sat       Sun\n",
       "5    0.000000  0.012569  0.000000  0.000000  0.000000  0.000000  0.000000\n",
       "13   0.000000  0.000000  0.000000  0.000000  0.000000  0.000000  0.011899\n",
       "19   0.000000  0.000000  0.000000  0.000000  0.000000  0.000000  0.011396\n",
       "20   0.000000  0.011312  0.000000  0.000000  0.000000  0.000000  0.000000\n",
       "26   0.000000  0.000000  0.000000  0.010809  0.000000  0.000000  0.000000\n",
       "35   0.000000  0.000000  0.000000  0.010055  0.000000  0.000000  0.000000\n",
       "49   0.000000  0.000000  0.000000  0.000000  0.000000  0.008882  0.000000\n",
       "61   0.000000  0.000000  0.000000  0.000000  0.000000  0.007877  0.000000\n",
       "66   0.007458  0.000000  0.000000  0.000000  0.000000  0.000000  0.000000\n",
       "67   0.000000  0.000000  0.000000  0.000000  0.000000  0.000000  0.007374\n",
       "70   0.000000  0.000000  0.000000  0.000000  0.000000  0.000000  0.007123\n",
       "85   0.000000  0.000000  0.000000  0.000000  0.000000  0.005866  0.000000\n",
       "86   0.000000  0.000000  0.000000  0.000000  0.005782  0.000000  0.000000\n",
       "87   0.000000  0.005698  0.000000  0.000000  0.000000  0.000000  0.000000\n",
       "101  0.000000  0.000000  0.000000  0.004525  0.000000  0.000000  0.000000\n",
       "104  0.000000  0.004274  0.000000  0.000000  0.000000  0.000000  0.000000\n",
       "107  0.000000  0.004022  0.000000  0.000000  0.000000  0.000000  0.000000\n",
       "113  0.000000  0.000000  0.003519  0.000000  0.000000  0.000000  0.000000\n",
       "115  0.000000  0.000000  0.000000  0.000000  0.000000  0.003352  0.000000\n",
       "127  0.000000  0.000000  0.000000  0.002346  0.000000  0.000000  0.000000\n",
       "133  0.000000  0.000000  0.000000  0.001843  0.000000  0.000000  0.000000\n",
       "136  0.001592  0.000000  0.000000  0.000000  0.000000  0.000000  0.000000\n",
       "137  0.000000  0.001508  0.000000  0.000000  0.000000  0.000000  0.000000\n",
       "149  0.000000  0.000000  0.000503  0.000000  0.000000  0.000000  0.000000\n",
       "151  0.000000  0.000335  0.000000  0.000000  0.000000  0.000000  0.000000"
      ]
     },
     "execution_count": 28,
     "metadata": {},
     "output_type": "execute_result"
    }
   ],
   "source": [
    "# for ind in V.index:\n",
    "#     flag = True\n",
    "#     for i in V.columns:\n",
    "#         if (V.loc[ind, i] == 1) and flag:\n",
    "#             V.loc[ind] = 0\n",
    "#             V.loc[ind, i] = w[ind - 1]\n",
    "# V"
   ]
  },
  {
   "cell_type": "markdown",
   "metadata": {},
   "source": [
    "Count probabilities p_i - probability, that consumer will visit the shop in i-th day.\n",
    " (Для кожного дня і це ймовірності схеми Бернуллі - випробуванням є кожен тиждень, а успіх - якщо того тижня відвідувач приходив і-го дня. Сума не обов'язково рівна 1)"
   ]
  },
  {
   "cell_type": "code",
   "execution_count": 24,
   "metadata": {},
   "outputs": [],
   "source": [
    "p = V.sum().to_numpy() / V.shape[0]"
   ]
  },
  {
   "cell_type": "markdown",
   "metadata": {},
   "source": [
    "Count probabilities of first visit"
   ]
  },
  {
   "cell_type": "code",
   "execution_count": 7,
   "metadata": {},
   "outputs": [
    {
     "name": "stdout",
     "output_type": "stream",
     "text": [
      "1.0\n"
     ]
    }
   ],
   "source": [
    "p_ = np.zeros(7)\n",
    "for i in range(7):\n",
    "    p_[i] = (1 - p[:i]).prod() * p[i]\n",
    "\n",
    "# check\n",
    "print(p_.sum() + (1 - p).prod()) # = 1"
   ]
  },
  {
   "cell_type": "markdown",
   "metadata": {},
   "source": [
    "Prediction"
   ]
  },
  {
   "cell_type": "code",
   "execution_count": 8,
   "metadata": {},
   "outputs": [],
   "source": [
    "predicted_day = np.argmax(p_)\n",
    "predicted_day;"
   ]
  },
  {
   "cell_type": "markdown",
   "metadata": {},
   "source": [
    "## With weights (algorithm 1.0)"
   ]
  },
  {
   "cell_type": "code",
   "execution_count": 9,
   "metadata": {},
   "outputs": [
    {
     "data": {
      "image/png": "[encoded data removed]",
      "text/plain": [
       "<Figure size 1332x756 with 4 Axes>"
      ]
     },
     "metadata": {
      "needs_background": "light"
     },
     "output_type": "display_data"
    }
   ],
   "source": [
    "weeks = range(1, n_weeks+1)\n",
    "\n",
    "w_lin = np.array([(n_weeks - i - 1)/n_weeks for i in weeks])\n",
    "w_lin = w_lin / w_lin.sum()\n",
    "\n",
    "lambd = 0.985\n",
    "w_exp = np.array([lambd**(i) for i in weeks])\n",
    "w_exp = w_exp / w_exp.sum()\n",
    "\n",
    "gamma = 0.25\n",
    "w_recip = np.array([1/i**(gamma) for i in weeks])\n",
    "w_recip = w_recip / w_recip.sum()\n",
    "\n",
    "#plotting of three profiles of weights\n",
    "fig, ax = plt.subplots(2, 2, sharex=True, sharey=True)\n",
    "fig.set_size_inches(18.5, 10.5, forward=True)\n",
    "ax[0, 0].plot(weeks, w_lin)\n",
    "ax[0, 1].plot(weeks, w_exp)\n",
    "ax[1, 0].plot(weeks, w_recip);"
   ]
  },
  {
   "cell_type": "markdown",
   "metadata": {},
   "source": [
    "Count weighted probabilities p and p_"
   ]
  },
  {
   "cell_type": "code",
   "execution_count": 10,
   "metadata": {},
   "outputs": [
    {
     "name": "stdout",
     "output_type": "stream",
     "text": [
      "1.0\n"
     ]
    },
    {
     "data": {
      "text/plain": [
       "array([0.00888219, 0.03878432, 0.0036708 , 0.03871281, 0.01189477,\n",
       "       0.02302705, 0.03431483])"
      ]
     },
     "execution_count": 10,
     "metadata": {},
     "output_type": "execute_result"
    }
   ],
   "source": [
    "w = w_lin\n",
    "for ind in V.index:\n",
    "    V.loc[ind, :] *= w[ind]\n",
    "\n",
    "    \n",
    "p = V.sum(axis=0)\n",
    "p_ = np.zeros(7)\n",
    "for i in range(7):\n",
    "    p_[i] = (1 - p[:i]).prod() * p[i]\n",
    "\n",
    "# check\n",
    "print(p_.sum() + (1 - p).prod()) # == 1\n",
    "p_"
   ]
  },
  {
   "cell_type": "markdown",
   "metadata": {},
   "source": [
    "Predict"
   ]
  },
  {
   "cell_type": "code",
   "execution_count": 11,
   "metadata": {},
   "outputs": [],
   "source": [
    "predicted_day = np.argmax(p_)\n",
    "predicted_day;"
   ]
  },
  {
   "cell_type": "markdown",
   "metadata": {},
   "source": [
    "## Evaluation"
   ]
  },
  {
   "cell_type": "code",
   "execution_count": 12,
   "metadata": {},
   "outputs": [],
   "source": [
    "# from numpy.random import default_rng\n",
    "# rng = default_rng(142)\n",
    "# index_random = rng.permutation(V.index)\n",
    "# test_proportion = 0.25\n",
    "# n_test = int(np.floor(test_proportion * len(V.index)))\n",
    "# V_test, V_train = V.loc[index_random[:n_test]], V.loc[index_random[n_test:]]\n",
    "\n"
   ]
  },
  {
   "cell_type": "code",
   "execution_count": 13,
   "metadata": {},
   "outputs": [],
   "source": [
    "# test_proportion = 0.25\n",
    "# n_test = int(np.floor(test_proportion * len(V.index)))\n",
    "\n",
    "# V_test, V_train = V.iloc[-n_test:, :], V.iloc[:-n_test, :]"
   ]
  },
  {
   "cell_type": "code",
   "execution_count": 14,
   "metadata": {},
   "outputs": [],
   "source": [
    "def is_true_prediction(V_test, predicted_day):\n",
    "    return (V_test.iloc[predicted_day] == 1) and (V_test.iloc[:predicted_day].sum() == 0)\n"
   ]
  },
  {
   "cell_type": "markdown",
   "metadata": {},
   "source": [
    "# For all consumers"
   ]
  },
  {
   "cell_type": "raw",
   "metadata": {},
   "source": [
    "# scheme\n",
    "score = 0\n",
    "for ind in df.index:\n",
    "    visites = parse_visites(ind)\n",
    "    V, V_test = make_visit_matrix(visites)\n",
    "    V = drop_empty_weeks(V)\n",
    "    w = get_weights(n_weeks)\n",
    "    p = compute_p(V, w)\n",
    "    p_ = compute_p_(p)\n",
    "    predicted_day = predict(p_)\n",
    "    true_day = \n",
    "    score += is_true_prediction(predicted_day, V_test)\n",
    "   \n",
    "score /= df.shape[0]\n",
    "print(\"accuracy = \", score)"
   ]
  },
  {
   "cell_type": "code",
   "execution_count": 15,
   "metadata": {},
   "outputs": [
    {
     "data": {
      "text/plain": [
       "' 30 84 126 135 137 179 242 342 426 456 460 462 483 594 600 604 704 723 744 787 804 886 924 928 946 954 1039 1040 1052'"
      ]
     },
     "execution_count": 15,
     "metadata": {},
     "output_type": "execute_result"
    }
   ],
   "source": [
    "# def parse_visites(ind):\n",
    "df.loc[1][0]"
   ]
  },
  {
   "cell_type": "code",
   "execution_count": 16,
   "metadata": {},
   "outputs": [],
   "source": [
    "def parse_visites(ind):\n",
    "    line = df.loc[ind][0]\n",
    "    line = line.strip()\n",
    "    visites = [int(s) for s in line.split(' ')]\n",
    "    return visites\n",
    "    \n",
    "visites = parse_visites(19);"
   ]
  },
  {
   "cell_type": "code",
   "execution_count": 18,
   "metadata": {},
   "outputs": [
    {
     "name": "stdout",
     "output_type": "stream",
     "text": [
      "weeks:  157\n"
     ]
    },
    {
     "data": {
      "text/html": [
       "<div>\n",
       "<style scoped>\n",
       "    .dataframe tbody tr th:only-of-type {\n",
       "        vertical-align: middle;\n",
       "    }\n",
       "\n",
       "    .dataframe tbody tr th {\n",
       "        vertical-align: top;\n",
       "    }\n",
       "\n",
       "    .dataframe thead th {\n",
       "        text-align: right;\n",
       "    }\n",
       "</style>\n",
       "<table border=\"1\" class=\"dataframe\">\n",
       "  <thead>\n",
       "    <tr style=\"text-align: right;\">\n",
       "      <th></th>\n",
       "      <th>Mon</th>\n",
       "      <th>Tue</th>\n",
       "      <th>Wed</th>\n",
       "      <th>Thu</th>\n",
       "      <th>Fri</th>\n",
       "      <th>Sat</th>\n",
       "      <th>Sun</th>\n",
       "    </tr>\n",
       "  </thead>\n",
       "  <tbody>\n",
       "    <tr>\n",
       "      <th>1</th>\n",
       "      <td>0</td>\n",
       "      <td>0</td>\n",
       "      <td>0</td>\n",
       "      <td>0</td>\n",
       "      <td>0</td>\n",
       "      <td>0</td>\n",
       "      <td>0</td>\n",
       "    </tr>\n",
       "    <tr>\n",
       "      <th>2</th>\n",
       "      <td>0</td>\n",
       "      <td>0</td>\n",
       "      <td>0</td>\n",
       "      <td>0</td>\n",
       "      <td>0</td>\n",
       "      <td>0</td>\n",
       "      <td>0</td>\n",
       "    </tr>\n",
       "    <tr>\n",
       "      <th>3</th>\n",
       "      <td>0</td>\n",
       "      <td>0</td>\n",
       "      <td>0</td>\n",
       "      <td>0</td>\n",
       "      <td>0</td>\n",
       "      <td>0</td>\n",
       "      <td>0</td>\n",
       "    </tr>\n",
       "    <tr>\n",
       "      <th>4</th>\n",
       "      <td>0</td>\n",
       "      <td>0</td>\n",
       "      <td>0</td>\n",
       "      <td>0</td>\n",
       "      <td>0</td>\n",
       "      <td>0</td>\n",
       "      <td>0</td>\n",
       "    </tr>\n",
       "    <tr>\n",
       "      <th>5</th>\n",
       "      <td>0</td>\n",
       "      <td>0</td>\n",
       "      <td>0</td>\n",
       "      <td>0</td>\n",
       "      <td>0</td>\n",
       "      <td>0</td>\n",
       "      <td>0</td>\n",
       "    </tr>\n",
       "  </tbody>\n",
       "</table>\n",
       "</div>"
      ],
      "text/plain": [
       "   Mon  Tue  Wed  Thu  Fri  Sat  Sun\n",
       "1    0    0    0    0    0    0    0\n",
       "2    0    0    0    0    0    0    0\n",
       "3    0    0    0    0    0    0    0\n",
       "4    0    0    0    0    0    0    0\n",
       "5    0    0    0    0    0    0    0"
      ]
     },
     "execution_count": 18,
     "metadata": {},
     "output_type": "execute_result"
    }
   ],
   "source": [
    "n_weeks = n_days // days_in_week\n",
    "if (n_days % days_in_week != 0): n_weeks += 1\n",
    "print(\"weeks: \", n_weeks)\n",
    "\n",
    "def make_visit_matrix(visites):        \n",
    "    V = np.zeros(shape = (n_weeks, 7), dtype = int)\n",
    "    for day in visites:\n",
    "        V[(day-1) // 7, (day-1) % 7] = 1\n",
    "    V = pd.DataFrame(V, columns=['Mon', 'Tue', 'Wed', 'Thu', 'Fri', 'Sat', 'Sun'])\n",
    "    V.index = V.index + 1\n",
    "    return V.iloc[:-1], V.iloc[-1]\n",
    "    \n",
    "    \n",
    "V, V_test = make_visit_matrix(visites)\n",
    "n_weeks -= 1\n",
    "V.shape, V_test.shape\n",
    "V.head()"
   ]
  },
  {
   "cell_type": "code",
   "execution_count": 19,
   "metadata": {},
   "outputs": [],
   "source": [
    "def drop_empty_weeks(V):\n",
    "    for i in V.index:\n",
    "        if (not np.any(V.loc[i,:])):\n",
    "            V = V.drop(i)\n",
    "    return V\n",
    "\n",
    "V = drop_empty_weeks(V)"
   ]
  },
  {
   "cell_type": "code",
   "execution_count": null,
   "metadata": {},
   "outputs": [],
   "source": [
    "def get_weights(n_weeks, choose='lin'):\n",
    "    weeks = range(1, n_weeks+1)\n",
    "    if (choose == 'lin'):\n",
    "        w_lin = np.array([(n_weeks - i - 1)/n_weeks for i in weeks])\n",
    "        w_lin = w_lin / w_lin.sum()\n",
    "        return w_lin\n",
    "    elif (choose == 'exp'):\n",
    "        lambd = 0.985\n",
    "        w_exp = np.array([lambd**(i) for i in weeks])\n",
    "        w_exp = w_exp / w_exp.sum()\n",
    "        return w_exp\n",
    "    elif (choose == 'recip'):\n",
    "        gamma = 0.25\n",
    "        w_recip = np.array([1/i**(gamma) for i in weeks])\n",
    "        w_recip = w_recip / w_recip.sum()\n",
    "        return w_recip\n",
    "    \n",
    "    \n",
    "w = get_weights(n_weeks)"
   ]
  },
  {
   "cell_type": "code",
   "execution_count": null,
   "metadata": {},
   "outputs": [],
   "source": [
    "def compute_p(w):\n",
    "    for ind in V.index:\n",
    "        V.loc[ind, :] *= w[ind]\n",
    "    p = V.sum(axis=0)\n",
    "    return p\n",
    "    \n",
    "p = compute_p(w)   \n",
    "def compute_p_(p):\n",
    "    p_ = np.zeros(7)\n",
    "    for i in range(7):\n",
    "        p_[i] = (1 - p[:i]).prod() * p[i]\n",
    "    return p_\n",
    "\n",
    "p_ = compute_p_(p)\n",
    "# check\n",
    "print(p_.sum() + (1 - p).prod()) # == 1\n",
    "p_;"
   ]
  },
  {
   "cell_type": "code",
   "execution_count": null,
   "metadata": {},
   "outputs": [],
   "source": [
    "def predict(p_):\n",
    "    return np.argmax(p_)\n",
    "\n",
    "predicted_day = predict(p_)"
   ]
  },
  {
   "cell_type": "code",
   "execution_count": null,
   "metadata": {},
   "outputs": [],
   "source": [
    "def is_true_prediction(V_test, predicted_day):\n",
    "    return (V_test.iloc[predicted_day] == 1) and (V_test.iloc[:predicted_day].sum() == 0)\n",
    "\n"
   ]
  },
  {
   "cell_type": "code",
   "execution_count": null,
   "metadata": {},
   "outputs": [],
   "source": []
  }
 ],
 "metadata": {
  "kernelspec": {
   "display_name": "Python 3",
   "language": "python",
   "name": "python3"
  },
  "language_info": {
   "codemirror_mode": {
    "name": "ipython",
    "version": 3
   },
   "file_extension": ".py",
   "mimetype": "text/x-python",
   "name": "python",
   "nbconvert_exporter": "python",
   "pygments_lexer": "ipython3",
   "version": "3.8.2"
  }
 },
 "nbformat": 4,
 "nbformat_minor": 4
}
