{
 "cells": [
  {
   "cell_type": "code",
   "execution_count": 248,
   "metadata": {},
   "outputs": [],
   "source": [
    "import numpy as np\n",
    "import matplotlib.pyplot as plt\n",
    "import seaborn as sns\n",
    "import pandas as pd\n",
    "\n",
    "df = pd.read_csv('data/train.csv', nrows = 10000, index_col = 0)\n",
    "\n",
    "n_days = 1099\n",
    "days_in_week = 7\n",
    "n_weeks = n_days // days_in_week\n",
    "if (n_days % days_in_week != 0): n_weeks += 1"
   ]
  },
  {
   "cell_type": "markdown",
   "metadata": {},
   "source": [
    "# For 1st consumer"
   ]
  },
  {
   "cell_type": "markdown",
   "metadata": {},
   "source": [
    "## Without weights (algorithm 0.1)\n",
    "Read data for 1 customer"
   ]
  },
  {
   "cell_type": "code",
   "execution_count": 249,
   "metadata": {},
   "outputs": [
    {
     "data": {
      "text/plain": [
       "[30,\n",
       " 84,\n",
       " 126,\n",
       " 135,\n",
       " 137,\n",
       " 179,\n",
       " 242,\n",
       " 342,\n",
       " 426,\n",
       " 456,\n",
       " 460,\n",
       " 462,\n",
       " 483,\n",
       " 594,\n",
       " 600,\n",
       " 604,\n",
       " 704,\n",
       " 723,\n",
       " 744,\n",
       " 787,\n",
       " 804,\n",
       " 886,\n",
       " 924,\n",
       " 928,\n",
       " 946,\n",
       " 954,\n",
       " 1039,\n",
       " 1040,\n",
       " 1052]"
      ]
     },
     "execution_count": 249,
     "metadata": {},
     "output_type": "execute_result"
    }
   ],
   "source": [
    "f = open('data/train.csv')\n",
    "f.readline()\n",
    "line = f.readline()\n",
    "ind, line = line.split(',')\n",
    "ind = str(ind)\n",
    "line = line.strip()\n",
    "visits = [int(s) for s in line.split(' ')];\n",
    "visits"
   ]
  },
  {
   "cell_type": "code",
   "execution_count": null,
   "metadata": {},
   "outputs": [],
   "source": []
  },
  {
   "cell_type": "markdown",
   "metadata": {},
   "source": [
    "Make matrix of visits of customer"
   ]
  },
  {
   "cell_type": "code",
   "execution_count": 250,
   "metadata": {},
   "outputs": [],
   "source": [
    "\n",
    "\n",
    "def make_visit_matrix(visits):\n",
    "    V = np.zeros(shape = (n_weeks, 7), dtype = int)\n",
    "    for day in visits:\n",
    "#         print(\"day = \", day, ', week = ', (day-1) // 7, \", day = \", (day-1)%7)\n",
    "        V[(day-1) // 7, (day-1)%7] = 1\n",
    "    \n",
    "    V = pd.DataFrame(V, columns=['Mon', 'Tue', 'Wed', 'Thu', 'Fri', 'Sat', 'Sun'])\n",
    "    V.index = V.index + 1\n",
    "    return V\n",
    "    \n",
    "V = make_visit_matrix(visits)\n"
   ]
  },
  {
   "cell_type": "markdown",
   "metadata": {},
   "source": [
    "Drop empty weeks, leave last week for testing"
   ]
  },
  {
   "cell_type": "code",
   "execution_count": 263,
   "metadata": {},
   "outputs": [
    {
     "name": "stdout",
     "output_type": "stream",
     "text": [
      "(25, 7)\n"
     ]
    },
    {
     "data": {
      "text/plain": [
       "1"
      ]
     },
     "execution_count": 263,
     "metadata": {},
     "output_type": "execute_result"
    }
   ],
   "source": [
    "for i in V.index:\n",
    "    if (not np.any(V.loc[i,:])):\n",
    "        V = V.drop(i)\n",
    "print(V.shape)\n",
    "V_test = V.iloc[0]\n",
    "V = V.iloc[0:]\n",
    "n_weeks -= 1\n",
    "(visits[0] - 1)%7\n",
    "#{30: 1, 84: 2, 126: 3, 135: 4, 137: 4, 179: 5, 242: 6, 342: 7, 426: 8, 456: 9, 460: 9, 462: 9, 483: 10, 594: 11, 600: 11,"
   ]
  },
  {
   "cell_type": "code",
   "execution_count": 252,
   "metadata": {},
   "outputs": [
    {
     "data": {
      "text/plain": [
       "{30: 1,\n",
       " 84: 2,\n",
       " 126: 3,\n",
       " 135: 4,\n",
       " 137: 4,\n",
       " 179: 5,\n",
       " 242: 6,\n",
       " 342: 7,\n",
       " 426: 8,\n",
       " 456: 9,\n",
       " 460: 9,\n",
       " 462: 9,\n",
       " 483: 10,\n",
       " 594: 11,\n",
       " 600: 11,\n",
       " 604: 12,\n",
       " 704: 13,\n",
       " 723: 14,\n",
       " 744: 15,\n",
       " 787: 16,\n",
       " 804: 17,\n",
       " 886: 18,\n",
       " 924: 19,\n",
       " 928: 19,\n",
       " 946: 20,\n",
       " 954: 21,\n",
       " 1039: 22,\n",
       " 1040: 22,\n",
       " 1052: 23}"
      ]
     },
     "execution_count": 252,
     "metadata": {},
     "output_type": "execute_result"
    }
   ],
   "source": [
    "{30: 1, 84: 2, 126: 3, 135: 4, 137: 4, 179: 5, 242: 6, 342: 7, 426: 8, 456: 9, 460: 9, 462: 9, 483: 10, 594: 11, 600: 11, 604: 12, 704: 13, 723: 14, 744: 15, 787: 16, 804: 17, 886: 18, 924: 19, 928: 19, 946: 20, 954: 21, 1039: 22, 1040: 22, 1052: 23}"
   ]
  },
  {
   "cell_type": "markdown",
   "metadata": {},
   "source": [
    "Count probabilities p_i - probability, that consumer will visit the shop in i-th day.\n",
    " (Для кожного дня і це ймовірності схеми Бернуллі - випробуванням є кожен тиждень, а успіх - якщо того тижня відвідувач приходив і-го дня. Сума не обов'язково рівна 1)"
   ]
  },
  {
   "cell_type": "code",
   "execution_count": 253,
   "metadata": {},
   "outputs": [],
   "source": [
    "p = V.sum().to_numpy() / V.shape[0]"
   ]
  },
  {
   "cell_type": "markdown",
   "metadata": {},
   "source": [
    "Count probabilities of first visit"
   ]
  },
  {
   "cell_type": "code",
   "execution_count": 254,
   "metadata": {},
   "outputs": [
    {
     "name": "stdout",
     "output_type": "stream",
     "text": [
      "1.0\n"
     ]
    }
   ],
   "source": [
    "p_ = np.zeros(7)\n",
    "for i in range(7):\n",
    "    p_[i] = (1 - p[:i]).prod() * p[i]\n",
    "\n",
    "# check\n",
    "print(p_.sum() + (1 - p).prod()) # = 1"
   ]
  },
  {
   "cell_type": "markdown",
   "metadata": {},
   "source": [
    "Prediction"
   ]
  },
  {
   "cell_type": "code",
   "execution_count": 255,
   "metadata": {},
   "outputs": [],
   "source": [
    "predicted_day = np.argmax(p_)\n",
    "predicted_day;"
   ]
  },
  {
   "cell_type": "markdown",
   "metadata": {},
   "source": [
    "## With weights (algorithm 1.0)"
   ]
  },
  {
   "cell_type": "code",
   "execution_count": 256,
   "metadata": {},
   "outputs": [
    {
     "name": "stdout",
     "output_type": "stream",
     "text": [
      "n_weeks = 25\n",
      "{30: 1, 84: 2, 126: 3, 135: 4, 137: 4, 179: 5, 242: 6, 342: 7, 426: 8, 456: 9, 460: 9, 462: 9, 483: 10, 594: 11, 600: 12, 604: 13, 704: 14, 723: 15, 744: 16, 787: 17, 804: 18, 886: 19, 924: 20, 928: 21, 946: 22, 954: 23, 1039: 24, 1040: 24, 1052: 25}\n",
      "dict_values([1, 2, 3, 4, 4, 5, 6, 7, 8, 9, 9, 9, 10, 11, 12, 13, 14, 15, 16, 17, 18, 19, 20, 21, 22, 23, 24, 24, 25])\n"
     ]
    }
   ],
   "source": [
    "d_cur = visits[0]\n",
    "num_of_week = {d_cur : 1}\n",
    "n_weeks = 1\n",
    "for d in visits[1:]:\n",
    "    # if not at the same week\n",
    "    if not((d - d_cur) < 7 and ((d - 1)%7 - (d_cur - 1)%7)) > 0:\n",
    "        n_weeks += 1\n",
    "        d_cur = copy(d)\n",
    "    num_of_week[d] = n_weeks\n",
    "print(\"n_weeks =\", n_weeks)\n",
    "print(num_of_week)\n",
    "print((num_of_week.values()))"
   ]
  },
  {
   "cell_type": "code",
   "execution_count": 257,
   "metadata": {},
   "outputs": [
    {
     "data": {
      "image/png": "[encoded data removed]",
      "text/plain": [
       "<Figure size 1332x756 with 4 Axes>"
      ]
     },
     "metadata": {
      "needs_background": "light"
     },
     "output_type": "display_data"
    }
   ],
   "source": [
    "\n",
    "\n",
    "#---------------\n",
    "weeks = range(1, n_weeks+1)\n",
    "\n",
    "w_lin = np.array([(n_weeks - i + 1)/n_weeks for i in weeks])\n",
    "w_lin = w_lin / w_lin.sum()\n",
    "\n",
    "lambd = 0.6\n",
    "w_exp = np.array([lambd**(i) for i in weeks])\n",
    "w_exp = w_exp / w_exp.sum()\n",
    "\n",
    "gamma = 0.25\n",
    "w_recip = np.array([1/i**(gamma) for i in weeks])\n",
    "w_recip = w_recip / w_recip.sum()\n",
    "\n",
    "#plotting of three profiles of weights\n",
    "fig, ax = plt.subplots(2, 2, sharex=True, sharey=True)\n",
    "fig.set_size_inches(18.5, 10.5, forward=True)\n",
    "ax[0, 0].plot(weeks, w_lin)\n",
    "ax[0, 1].plot(weeks, w_exp)\n",
    "ax[1, 0].plot(weeks, w_recip);"
   ]
  },
  {
   "cell_type": "markdown",
   "metadata": {},
   "source": [
    "Count weighted probabilities p and p_"
   ]
  },
  {
   "cell_type": "code",
   "execution_count": 258,
   "metadata": {},
   "outputs": [
    {
     "name": "stdout",
     "output_type": "stream",
     "text": [
      "{30: 1, 84: 2, 126: 3, 135: 4, 137: 4, 179: 5, 242: 6, 342: 7, 426: 8, 456: 9, 460: 9, 462: 9, 483: 10, 594: 11, 600: 12, 604: 13, 704: 14, 723: 15, 744: 16, 787: 17, 804: 18, 886: 19, 924: 20, 928: 21, 946: 22, 954: 23, 1039: 24, 1040: 24, 1052: 25}\n",
      "1.0000000000000002\n"
     ]
    },
    {
     "data": {
      "text/plain": [
       "Mon    0.064615\n",
       "Tue    0.261538\n",
       "Wed    0.033846\n",
       "Thu    0.273846\n",
       "Fri    0.095385\n",
       "Sat    0.184615\n",
       "Sun    0.264615\n",
       "dtype: float64"
      ]
     },
     "execution_count": 258,
     "metadata": {},
     "output_type": "execute_result"
    }
   ],
   "source": [
    "w = w_lin\n",
    "print(num_of_week)\n",
    "for i in range(V.shape[0]):\n",
    "    V.iloc[i] *= w[i]\n",
    "\n",
    "    \n",
    "p = V.sum(axis=0)\n",
    "p_ = np.zeros(7)\n",
    "for i in range(7):\n",
    "    p_[i] = (1 - p[:i]).prod() * p[i]\n",
    "\n",
    "# check\n",
    "print(p_.sum() + (1 - p).prod()) # == 1\n",
    "p\n"
   ]
  },
  {
   "cell_type": "markdown",
   "metadata": {},
   "source": [
    "Predict"
   ]
  },
  {
   "cell_type": "code",
   "execution_count": 15,
   "metadata": {},
   "outputs": [],
   "source": [
    "predicted_day = np.argmax(p_)\n",
    "predicted_day;"
   ]
  },
  {
   "cell_type": "markdown",
   "metadata": {},
   "source": [
    "## Evaluation"
   ]
  },
  {
   "cell_type": "code",
   "execution_count": 16,
   "metadata": {},
   "outputs": [],
   "source": [
    "# from numpy.random import default_rng\n",
    "# rng = default_rng(142)\n",
    "# index_random = rng.permutation(V.index)\n",
    "# test_proportion = 0.25\n",
    "# n_test = int(np.floor(test_proportion * len(V.index)))\n",
    "# V_test, V_train = V.loc[index_random[:n_test]], V.loc[index_random[n_test:]]\n",
    "\n"
   ]
  },
  {
   "cell_type": "code",
   "execution_count": 17,
   "metadata": {},
   "outputs": [],
   "source": [
    "# test_proportion = 0.25\n",
    "# n_test = int(np.floor(test_proportion * len(V.index)))\n",
    "\n",
    "# V_test, V_train = V.iloc[-n_test:, :], V.iloc[:-n_test, :]"
   ]
  },
  {
   "cell_type": "code",
   "execution_count": 18,
   "metadata": {},
   "outputs": [],
   "source": [
    "def is_true_prediction(V_test, predicted_day):\n",
    "    return (V_test.iloc[predicted_day] == 1) and (V_test.iloc[:predicted_day].sum() == 0)\n"
   ]
  },
  {
   "cell_type": "markdown",
   "metadata": {},
   "source": [
    "# For all consumers"
   ]
  },
  {
   "cell_type": "raw",
   "metadata": {},
   "source": [
    "# scheme\n",
    "score = 0\n",
    "for ind in df.index:\n",
    "    visites = parse_visits(ind)\n",
    "    V, V_test = make_visit_matrix(visits)\n",
    "    V = drop_empty_weeks(V)\n",
    "    w = get_weights(n_weeks)\n",
    "    p = compute_p(V, w)\n",
    "    p_ = compute_p_(p)\n",
    "    predicted_day = predict(p_)\n",
    "    true_day = \n",
    "    score += is_true_prediction(predicted_day, V_test)\n",
    "   \n",
    "score /= df.shape[0]\n",
    "print(\"accuracy = \", score)"
   ]
  },
  {
   "cell_type": "code",
   "execution_count": 105,
   "metadata": {},
   "outputs": [
    {
     "data": {
      "text/plain": [
       "' 30 84 126 135 137 179 242 342 426 456 460 462 483 594 600 604 704 723 744 787 804 886 924 928 946 954 1039 1040 1052'"
      ]
     },
     "execution_count": 105,
     "metadata": {},
     "output_type": "execute_result"
    }
   ],
   "source": [
    "# def parse_visits(ind):\n",
    "df.loc[1][0]"
   ]
  },
  {
   "cell_type": "code",
   "execution_count": 148,
   "metadata": {},
   "outputs": [],
   "source": [
    "def parse_visits(ind):\n",
    "    line = df.loc[ind][0]\n",
    "    line = line.strip()\n",
    "    visits = [int(s) for s in line.split(' ')]\n",
    "    return visits\n",
    "    \n",
    "visits = parse_visites(1);"
   ]
  },
  {
   "cell_type": "code",
   "execution_count": 169,
   "metadata": {},
   "outputs": [
    {
     "name": "stdout",
     "output_type": "stream",
     "text": [
      "weeks:  157\n"
     ]
    },
    {
     "data": {
      "text/html": [
       "<div>\n",
       "<style scoped>\n",
       "    .dataframe tbody tr th:only-of-type {\n",
       "        vertical-align: middle;\n",
       "    }\n",
       "\n",
       "    .dataframe tbody tr th {\n",
       "        vertical-align: top;\n",
       "    }\n",
       "\n",
       "    .dataframe thead th {\n",
       "        text-align: right;\n",
       "    }\n",
       "</style>\n",
       "<table border=\"1\" class=\"dataframe\">\n",
       "  <thead>\n",
       "    <tr style=\"text-align: right;\">\n",
       "      <th></th>\n",
       "      <th>Mon</th>\n",
       "      <th>Tue</th>\n",
       "      <th>Wed</th>\n",
       "      <th>Thu</th>\n",
       "      <th>Fri</th>\n",
       "      <th>Sat</th>\n",
       "      <th>Sun</th>\n",
       "    </tr>\n",
       "  </thead>\n",
       "  <tbody>\n",
       "    <tr>\n",
       "      <th>1</th>\n",
       "      <td>0</td>\n",
       "      <td>0</td>\n",
       "      <td>0</td>\n",
       "      <td>0</td>\n",
       "      <td>0</td>\n",
       "      <td>0</td>\n",
       "      <td>0</td>\n",
       "    </tr>\n",
       "    <tr>\n",
       "      <th>2</th>\n",
       "      <td>0</td>\n",
       "      <td>0</td>\n",
       "      <td>0</td>\n",
       "      <td>0</td>\n",
       "      <td>0</td>\n",
       "      <td>0</td>\n",
       "      <td>0</td>\n",
       "    </tr>\n",
       "    <tr>\n",
       "      <th>3</th>\n",
       "      <td>0</td>\n",
       "      <td>0</td>\n",
       "      <td>0</td>\n",
       "      <td>0</td>\n",
       "      <td>0</td>\n",
       "      <td>0</td>\n",
       "      <td>0</td>\n",
       "    </tr>\n",
       "    <tr>\n",
       "      <th>4</th>\n",
       "      <td>0</td>\n",
       "      <td>0</td>\n",
       "      <td>0</td>\n",
       "      <td>0</td>\n",
       "      <td>0</td>\n",
       "      <td>0</td>\n",
       "      <td>0</td>\n",
       "    </tr>\n",
       "    <tr>\n",
       "      <th>5</th>\n",
       "      <td>0</td>\n",
       "      <td>1</td>\n",
       "      <td>0</td>\n",
       "      <td>0</td>\n",
       "      <td>0</td>\n",
       "      <td>0</td>\n",
       "      <td>0</td>\n",
       "    </tr>\n",
       "  </tbody>\n",
       "</table>\n",
       "</div>"
      ],
      "text/plain": [
       "   Mon  Tue  Wed  Thu  Fri  Sat  Sun\n",
       "1    0    0    0    0    0    0    0\n",
       "2    0    0    0    0    0    0    0\n",
       "3    0    0    0    0    0    0    0\n",
       "4    0    0    0    0    0    0    0\n",
       "5    0    1    0    0    0    0    0"
      ]
     },
     "execution_count": 169,
     "metadata": {},
     "output_type": "execute_result"
    }
   ],
   "source": [
    "n_weeks = n_days // days_in_week\n",
    "if (n_days % days_in_week != 0): n_weeks += 1\n",
    "print(\"weeks: \", n_weeks)\n",
    "\n",
    "def make_visit_matrix(visits):       \n",
    "    \n",
    "    V = np.zeros(shape = (n_weeks, 7), dtype = int)\n",
    "    for day in visits:\n",
    "        V[(day-1) // 7, (day-1) % 7] = 1\n",
    "    V = pd.DataFrame(V, columns=['Mon', 'Tue', 'Wed', 'Thu', 'Fri', 'Sat', 'Sun'])\n",
    "    V.index = V.index + 1\n",
    "    return V.iloc[:-1], V.iloc[-1]\n",
    "    \n",
    "    \n",
    "V, V_test = make_visit_matrix(visits)\n",
    "n_weeks -= 1\n",
    "V.shape, V_test.shape\n",
    "V.head()"
   ]
  },
  {
   "cell_type": "code",
   "execution_count": 170,
   "metadata": {},
   "outputs": [],
   "source": [
    "def drop_empty_weeks(V):\n",
    "    for i in V.index:\n",
    "        if (not np.any(V.loc[i,:])):\n",
    "            V = V.drop(i)\n",
    "    return V\n",
    "\n",
    "V = drop_empty_weeks(V)"
   ]
  },
  {
   "cell_type": "code",
   "execution_count": 171,
   "metadata": {},
   "outputs": [],
   "source": [
    "def get_weights(length=n_weeks, choose='lin'):\n",
    "    weeks = range(1, length+1)\n",
    "    if (choose == 'lin'):\n",
    "        w_lin = np.array([(length - i + 1)/n_weeks for i in weeks])\n",
    "        w_lin = w_lin / w_lin.sum()\n",
    "        return w_lin\n",
    "    elif (choose == 'exp'):\n",
    "        lambd = 0.985\n",
    "        w_exp = np.array([lambd**(i) for i in weeks])\n",
    "        w_exp = w_exp / w_exp.sum()\n",
    "        return w_exp\n",
    "    elif (choose == 'recip'):\n",
    "        gamma = 0.25\n",
    "        w_recip = np.array([1/i**(gamma) for i in weeks])\n",
    "        w_recip = w_recip / w_recip.sum()\n",
    "        return w_recip\n",
    "    \n",
    "    \n"
   ]
  },
  {
   "cell_type": "code",
   "execution_count": 173,
   "metadata": {},
   "outputs": [
    {
     "ename": "IndexError",
     "evalue": "single positional indexer is out-of-bounds",
     "output_type": "error",
     "traceback": [
      "\u001b[0;31m---------------------------------------------------------------------------\u001b[0m",
      "\u001b[0;31mIndexError\u001b[0m                                Traceback (most recent call last)",
      "\u001b[0;32m<ipython-input-173-9985b1db74a4>\u001b[0m in \u001b[0;36m<module>\u001b[0;34m\u001b[0m\n\u001b[1;32m     12\u001b[0m \u001b[0;34m\u001b[0m\u001b[0m\n\u001b[1;32m     13\u001b[0m \u001b[0;31m# print(p)\u001b[0m\u001b[0;34m\u001b[0m\u001b[0;34m\u001b[0m\u001b[0;34m\u001b[0m\u001b[0m\n\u001b[0;32m---> 14\u001b[0;31m \u001b[0mp\u001b[0m \u001b[0;34m=\u001b[0m \u001b[0mcompute_p\u001b[0m\u001b[0;34m(\u001b[0m\u001b[0mw\u001b[0m\u001b[0;34m)\u001b[0m\u001b[0;34m\u001b[0m\u001b[0;34m\u001b[0m\u001b[0m\n\u001b[0m\u001b[1;32m     15\u001b[0m \u001b[0;32mdef\u001b[0m \u001b[0mcompute_p_\u001b[0m\u001b[0;34m(\u001b[0m\u001b[0mp\u001b[0m\u001b[0;34m)\u001b[0m\u001b[0;34m:\u001b[0m\u001b[0;34m\u001b[0m\u001b[0;34m\u001b[0m\u001b[0m\n\u001b[1;32m     16\u001b[0m     \u001b[0mp_\u001b[0m \u001b[0;34m=\u001b[0m \u001b[0mnp\u001b[0m\u001b[0;34m.\u001b[0m\u001b[0mzeros\u001b[0m\u001b[0;34m(\u001b[0m\u001b[0;36m7\u001b[0m\u001b[0;34m)\u001b[0m\u001b[0;34m\u001b[0m\u001b[0;34m\u001b[0m\u001b[0m\n",
      "\u001b[0;32m<ipython-input-173-9985b1db74a4>\u001b[0m in \u001b[0;36mcompute_p\u001b[0;34m(w)\u001b[0m\n\u001b[1;32m      6\u001b[0m     \u001b[0mp\u001b[0m \u001b[0;34m=\u001b[0m \u001b[0mnp\u001b[0m\u001b[0;34m.\u001b[0m\u001b[0mzeros\u001b[0m\u001b[0;34m(\u001b[0m\u001b[0;36m7\u001b[0m\u001b[0;34m)\u001b[0m\u001b[0;34m\u001b[0m\u001b[0;34m\u001b[0m\u001b[0m\n\u001b[1;32m      7\u001b[0m     \u001b[0;32mfor\u001b[0m \u001b[0mi\u001b[0m \u001b[0;32min\u001b[0m \u001b[0mrange\u001b[0m\u001b[0;34m(\u001b[0m\u001b[0mV\u001b[0m\u001b[0;34m.\u001b[0m\u001b[0mshape\u001b[0m\u001b[0;34m[\u001b[0m\u001b[0;36m0\u001b[0m\u001b[0;34m]\u001b[0m\u001b[0;34m)\u001b[0m\u001b[0;34m:\u001b[0m\u001b[0;34m\u001b[0m\u001b[0;34m\u001b[0m\u001b[0m\n\u001b[0;32m----> 8\u001b[0;31m         \u001b[0mp\u001b[0m \u001b[0;34m+=\u001b[0m \u001b[0mV\u001b[0m\u001b[0;34m.\u001b[0m\u001b[0miloc\u001b[0m\u001b[0;34m[\u001b[0m\u001b[0mind\u001b[0m\u001b[0;34m,\u001b[0m \u001b[0;34m:\u001b[0m\u001b[0;34m]\u001b[0m \u001b[0;34m*\u001b[0m \u001b[0mw\u001b[0m\u001b[0;34m[\u001b[0m\u001b[0mi\u001b[0m\u001b[0;34m]\u001b[0m\u001b[0;34m\u001b[0m\u001b[0;34m\u001b[0m\u001b[0m\n\u001b[0m\u001b[1;32m      9\u001b[0m         \u001b[0mw_sum\u001b[0m \u001b[0;34m+=\u001b[0m \u001b[0mw\u001b[0m\u001b[0;34m[\u001b[0m\u001b[0mi\u001b[0m\u001b[0;34m]\u001b[0m\u001b[0;34m\u001b[0m\u001b[0;34m\u001b[0m\u001b[0m\n\u001b[1;32m     10\u001b[0m     \u001b[0mp\u001b[0m \u001b[0;34m/=\u001b[0m \u001b[0mw_sum\u001b[0m\u001b[0;34m\u001b[0m\u001b[0;34m\u001b[0m\u001b[0m\n",
      "\u001b[0;32m~/anaconda3/lib/python3.8/site-packages/pandas/core/indexing.py\u001b[0m in \u001b[0;36m__getitem__\u001b[0;34m(self, key)\u001b[0m\n\u001b[1;32m    871\u001b[0m                     \u001b[0;31m# AttributeError for IntervalTree get_value\u001b[0m\u001b[0;34m\u001b[0m\u001b[0;34m\u001b[0m\u001b[0;34m\u001b[0m\u001b[0m\n\u001b[1;32m    872\u001b[0m                     \u001b[0;32mpass\u001b[0m\u001b[0;34m\u001b[0m\u001b[0;34m\u001b[0m\u001b[0m\n\u001b[0;32m--> 873\u001b[0;31m             \u001b[0;32mreturn\u001b[0m \u001b[0mself\u001b[0m\u001b[0;34m.\u001b[0m\u001b[0m_getitem_tuple\u001b[0m\u001b[0;34m(\u001b[0m\u001b[0mkey\u001b[0m\u001b[0;34m)\u001b[0m\u001b[0;34m\u001b[0m\u001b[0;34m\u001b[0m\u001b[0m\n\u001b[0m\u001b[1;32m    874\u001b[0m         \u001b[0;32melse\u001b[0m\u001b[0;34m:\u001b[0m\u001b[0;34m\u001b[0m\u001b[0;34m\u001b[0m\u001b[0m\n\u001b[1;32m    875\u001b[0m             \u001b[0;31m# we by definition only have the 0th axis\u001b[0m\u001b[0;34m\u001b[0m\u001b[0;34m\u001b[0m\u001b[0;34m\u001b[0m\u001b[0m\n",
      "\u001b[0;32m~/anaconda3/lib/python3.8/site-packages/pandas/core/indexing.py\u001b[0m in \u001b[0;36m_getitem_tuple\u001b[0;34m(self, tup)\u001b[0m\n\u001b[1;32m   1441\u001b[0m     \u001b[0;32mdef\u001b[0m \u001b[0m_getitem_tuple\u001b[0m\u001b[0;34m(\u001b[0m\u001b[0mself\u001b[0m\u001b[0;34m,\u001b[0m \u001b[0mtup\u001b[0m\u001b[0;34m:\u001b[0m \u001b[0mTuple\u001b[0m\u001b[0;34m)\u001b[0m\u001b[0;34m:\u001b[0m\u001b[0;34m\u001b[0m\u001b[0;34m\u001b[0m\u001b[0m\n\u001b[1;32m   1442\u001b[0m \u001b[0;34m\u001b[0m\u001b[0m\n\u001b[0;32m-> 1443\u001b[0;31m         \u001b[0mself\u001b[0m\u001b[0;34m.\u001b[0m\u001b[0m_has_valid_tuple\u001b[0m\u001b[0;34m(\u001b[0m\u001b[0mtup\u001b[0m\u001b[0;34m)\u001b[0m\u001b[0;34m\u001b[0m\u001b[0;34m\u001b[0m\u001b[0m\n\u001b[0m\u001b[1;32m   1444\u001b[0m         \u001b[0;32mtry\u001b[0m\u001b[0;34m:\u001b[0m\u001b[0;34m\u001b[0m\u001b[0;34m\u001b[0m\u001b[0m\n\u001b[1;32m   1445\u001b[0m             \u001b[0;32mreturn\u001b[0m \u001b[0mself\u001b[0m\u001b[0;34m.\u001b[0m\u001b[0m_getitem_lowerdim\u001b[0m\u001b[0;34m(\u001b[0m\u001b[0mtup\u001b[0m\u001b[0;34m)\u001b[0m\u001b[0;34m\u001b[0m\u001b[0;34m\u001b[0m\u001b[0m\n",
      "\u001b[0;32m~/anaconda3/lib/python3.8/site-packages/pandas/core/indexing.py\u001b[0m in \u001b[0;36m_has_valid_tuple\u001b[0;34m(self, key)\u001b[0m\n\u001b[1;32m    700\u001b[0m                 \u001b[0;32mraise\u001b[0m \u001b[0mIndexingError\u001b[0m\u001b[0;34m(\u001b[0m\u001b[0;34m\"Too many indexers\"\u001b[0m\u001b[0;34m)\u001b[0m\u001b[0;34m\u001b[0m\u001b[0;34m\u001b[0m\u001b[0m\n\u001b[1;32m    701\u001b[0m             \u001b[0;32mtry\u001b[0m\u001b[0;34m:\u001b[0m\u001b[0;34m\u001b[0m\u001b[0;34m\u001b[0m\u001b[0m\n\u001b[0;32m--> 702\u001b[0;31m                 \u001b[0mself\u001b[0m\u001b[0;34m.\u001b[0m\u001b[0m_validate_key\u001b[0m\u001b[0;34m(\u001b[0m\u001b[0mk\u001b[0m\u001b[0;34m,\u001b[0m \u001b[0mi\u001b[0m\u001b[0;34m)\u001b[0m\u001b[0;34m\u001b[0m\u001b[0;34m\u001b[0m\u001b[0m\n\u001b[0m\u001b[1;32m    703\u001b[0m             \u001b[0;32mexcept\u001b[0m \u001b[0mValueError\u001b[0m \u001b[0;32mas\u001b[0m \u001b[0merr\u001b[0m\u001b[0;34m:\u001b[0m\u001b[0;34m\u001b[0m\u001b[0;34m\u001b[0m\u001b[0m\n\u001b[1;32m    704\u001b[0m                 raise ValueError(\n",
      "\u001b[0;32m~/anaconda3/lib/python3.8/site-packages/pandas/core/indexing.py\u001b[0m in \u001b[0;36m_validate_key\u001b[0;34m(self, key, axis)\u001b[0m\n\u001b[1;32m   1350\u001b[0m             \u001b[0;32mreturn\u001b[0m\u001b[0;34m\u001b[0m\u001b[0;34m\u001b[0m\u001b[0m\n\u001b[1;32m   1351\u001b[0m         \u001b[0;32melif\u001b[0m \u001b[0mis_integer\u001b[0m\u001b[0;34m(\u001b[0m\u001b[0mkey\u001b[0m\u001b[0;34m)\u001b[0m\u001b[0;34m:\u001b[0m\u001b[0;34m\u001b[0m\u001b[0;34m\u001b[0m\u001b[0m\n\u001b[0;32m-> 1352\u001b[0;31m             \u001b[0mself\u001b[0m\u001b[0;34m.\u001b[0m\u001b[0m_validate_integer\u001b[0m\u001b[0;34m(\u001b[0m\u001b[0mkey\u001b[0m\u001b[0;34m,\u001b[0m \u001b[0maxis\u001b[0m\u001b[0;34m)\u001b[0m\u001b[0;34m\u001b[0m\u001b[0;34m\u001b[0m\u001b[0m\n\u001b[0m\u001b[1;32m   1353\u001b[0m         \u001b[0;32melif\u001b[0m \u001b[0misinstance\u001b[0m\u001b[0;34m(\u001b[0m\u001b[0mkey\u001b[0m\u001b[0;34m,\u001b[0m \u001b[0mtuple\u001b[0m\u001b[0;34m)\u001b[0m\u001b[0;34m:\u001b[0m\u001b[0;34m\u001b[0m\u001b[0;34m\u001b[0m\u001b[0m\n\u001b[1;32m   1354\u001b[0m             \u001b[0;31m# a tuple should already have been caught by this point\u001b[0m\u001b[0;34m\u001b[0m\u001b[0;34m\u001b[0m\u001b[0;34m\u001b[0m\u001b[0m\n",
      "\u001b[0;32m~/anaconda3/lib/python3.8/site-packages/pandas/core/indexing.py\u001b[0m in \u001b[0;36m_validate_integer\u001b[0;34m(self, key, axis)\u001b[0m\n\u001b[1;32m   1435\u001b[0m         \u001b[0mlen_axis\u001b[0m \u001b[0;34m=\u001b[0m \u001b[0mlen\u001b[0m\u001b[0;34m(\u001b[0m\u001b[0mself\u001b[0m\u001b[0;34m.\u001b[0m\u001b[0mobj\u001b[0m\u001b[0;34m.\u001b[0m\u001b[0m_get_axis\u001b[0m\u001b[0;34m(\u001b[0m\u001b[0maxis\u001b[0m\u001b[0;34m)\u001b[0m\u001b[0;34m)\u001b[0m\u001b[0;34m\u001b[0m\u001b[0;34m\u001b[0m\u001b[0m\n\u001b[1;32m   1436\u001b[0m         \u001b[0;32mif\u001b[0m \u001b[0mkey\u001b[0m \u001b[0;34m>=\u001b[0m \u001b[0mlen_axis\u001b[0m \u001b[0;32mor\u001b[0m \u001b[0mkey\u001b[0m \u001b[0;34m<\u001b[0m \u001b[0;34m-\u001b[0m\u001b[0mlen_axis\u001b[0m\u001b[0;34m:\u001b[0m\u001b[0;34m\u001b[0m\u001b[0;34m\u001b[0m\u001b[0m\n\u001b[0;32m-> 1437\u001b[0;31m             \u001b[0;32mraise\u001b[0m \u001b[0mIndexError\u001b[0m\u001b[0;34m(\u001b[0m\u001b[0;34m\"single positional indexer is out-of-bounds\"\u001b[0m\u001b[0;34m)\u001b[0m\u001b[0;34m\u001b[0m\u001b[0;34m\u001b[0m\u001b[0m\n\u001b[0m\u001b[1;32m   1438\u001b[0m \u001b[0;34m\u001b[0m\u001b[0m\n\u001b[1;32m   1439\u001b[0m     \u001b[0;31m# -------------------------------------------------------------------\u001b[0m\u001b[0;34m\u001b[0m\u001b[0;34m\u001b[0m\u001b[0;34m\u001b[0m\u001b[0m\n",
      "\u001b[0;31mIndexError\u001b[0m: single positional indexer is out-of-bounds"
     ]
    }
   ],
   "source": [
    "\n",
    "\n",
    "# print(w)\n",
    "def compute_p(w):\n",
    "    w_sum = 0\n",
    "    p = np.zeros(7)\n",
    "    for ind in V.index:\n",
    "        p += V.loc[ind, :] * w[ind - 1]\n",
    "        w_sum += w[ind - 1]\n",
    "    p /= w_sum\n",
    "    return p\n",
    "    \n",
    "# print(p)    \n",
    "p = compute_p(w)   \n",
    "def compute_p_(p):\n",
    "    p_ = np.zeros(7)\n",
    "    p_[0] = p[0]\n",
    "    p_negative = 1\n",
    "    for i in range(1, days_in_week):\n",
    "        p_negative *= (1 - p[i-1])\n",
    "        p_[i] = p_negative * p[i]\n",
    "    return p_\n",
    "\n",
    "\n",
    "\n",
    "p_ = compute_p_(p)\n",
    "# check\n",
    "# print(p_.sum() + (1 - p).prod()) # == 1\n",
    "print(p_)  # p_ = array([4.28141882e-27, 2.96942355e-28, 4.19505139e-28, 1.89778664e-28,\n",
    "     #  1.51950102e-31, 2.00812615e-27, 1.90747765e-30])\n",
    "    \n",
    "p"
   ]
  },
  {
   "cell_type": "code",
   "execution_count": 153,
   "metadata": {},
   "outputs": [],
   "source": [
    "def predict(p_):\n",
    "    return np.argmax(p_)\n",
    "\n",
    "predicted_day = predict(p_)"
   ]
  },
  {
   "cell_type": "code",
   "execution_count": 98,
   "metadata": {},
   "outputs": [],
   "source": [
    "def is_true_prediction(V_test, predicted_day):\n",
    "    return (V_test.iloc[predicted_day] == 1) and (V_test.iloc[:predicted_day].sum() == 0)\n",
    "\n"
   ]
  },
  {
   "cell_type": "code",
   "execution_count": null,
   "metadata": {},
   "outputs": [],
   "source": []
  },
  {
   "cell_type": "markdown",
   "metadata": {},
   "source": [
    "# Select customers with old visits"
   ]
  },
  {
   "cell_type": "code",
   "execution_count": 54,
   "metadata": {},
   "outputs": [],
   "source": [
    "# days = np.arange(1, n_days+1)\n",
    "\n",
    "def plot_visit_history(ind):\n",
    "    visits = parse_visits(ind)\n",
    "    binwidth = 20\n",
    "    plt.hist(visits, bins=range(min(visits), max(visits) + binwidth, binwidth));\n",
    "    plt.axvline(np.median(visits), color='red')\n"
   ]
  },
  {
   "cell_type": "code",
   "execution_count": 81,
   "metadata": {},
   "outputs": [
    {
     "data": {
      "text/plain": [
       "[87,\n",
       " 378,\n",
       " 821,\n",
       " 933,\n",
       " 1303,\n",
       " 1547,\n",
       " 1710,\n",
       " 1945,\n",
       " 2184,\n",
       " 2829,\n",
       " 2950,\n",
       " 3331,\n",
       " 3382,\n",
       " 3467,\n",
       " 5279,\n",
       " 5992,\n",
       " 8802,\n",
       " 10676,\n",
       " 12447,\n",
       " 12702,\n",
       " 14199,\n",
       " 22952,\n",
       " 25680,\n",
       " 33667,\n",
       " 35493,\n",
       " 36439,\n",
       " 36583,\n",
       " 40644,\n",
       " 41068,\n",
       " 58694,\n",
       " 97376]"
      ]
     },
     "execution_count": 81,
     "metadata": {},
     "output_type": "execute_result"
    }
   ],
   "source": [
    "old_ind = []\n",
    "for ind in df.index:\n",
    "    visites = parse_visites(ind)\n",
    "    if (np.median(visites) > n_days*0.7):\n",
    "        old_ind.append(ind)\n",
    "        \n",
    "young_ind = []\n",
    "for ind in df.index:\n",
    "    visites = parse_visites(ind)\n",
    "    if (np.median(visites) < n_days*0.3):\n",
    "        young_ind.append(ind)\n",
    "young_ind"
   ]
  },
  {
   "cell_type": "code",
   "execution_count": 65,
   "metadata": {},
   "outputs": [
    {
     "name": "stdout",
     "output_type": "stream",
     "text": [
      "old visitors [3, 22, 86, 726, 748, 956, 1367, 1675]\n"
     ]
    },
    {
     "data": {
      "image/png": "[encoded data removed]",
      "text/plain": [
       "<Figure size 432x288 with 1 Axes>"
      ]
     },
     "metadata": {
      "needs_background": "light"
     },
     "output_type": "display_data"
    }
   ],
   "source": [
    "print(\"old visitors\", old_ind)\n",
    "# visites = parse_visites(3)\n",
    "plot_visit_history(14)\n"
   ]
  },
  {
   "cell_type": "code",
   "execution_count": 66,
   "metadata": {},
   "outputs": [
    {
     "data": {
      "text/html": [
       "<div>\n",
       "<style scoped>\n",
       "    .dataframe tbody tr th:only-of-type {\n",
       "        vertical-align: middle;\n",
       "    }\n",
       "\n",
       "    .dataframe tbody tr th {\n",
       "        vertical-align: top;\n",
       "    }\n",
       "\n",
       "    .dataframe thead th {\n",
       "        text-align: right;\n",
       "    }\n",
       "</style>\n",
       "<table border=\"1\" class=\"dataframe\">\n",
       "  <thead>\n",
       "    <tr style=\"text-align: right;\">\n",
       "      <th></th>\n",
       "      <th>visits</th>\n",
       "    </tr>\n",
       "    <tr>\n",
       "      <th>id</th>\n",
       "      <th></th>\n",
       "    </tr>\n",
       "  </thead>\n",
       "  <tbody>\n",
       "    <tr>\n",
       "      <th>3</th>\n",
       "      <td>51 143 173 257 446 491 504 510 559 616 719 73...</td>\n",
       "    </tr>\n",
       "    <tr>\n",
       "      <th>22</th>\n",
       "      <td>41 51 122 186 235 304 349 528 532 545 647 685...</td>\n",
       "    </tr>\n",
       "    <tr>\n",
       "      <th>86</th>\n",
       "      <td>53 73 124 149 167 211 305 415 470 515 551 642...</td>\n",
       "    </tr>\n",
       "    <tr>\n",
       "      <th>726</th>\n",
       "      <td>116 193 263 291 298 328 389 406 444 445 467 5...</td>\n",
       "    </tr>\n",
       "    <tr>\n",
       "      <th>748</th>\n",
       "      <td>2 99 127 128 151 194 215 216 245 439 441 464 ...</td>\n",
       "    </tr>\n",
       "    <tr>\n",
       "      <th>956</th>\n",
       "      <td>62 163 265 269 332 360 369 374 422 501 514 51...</td>\n",
       "    </tr>\n",
       "    <tr>\n",
       "      <th>1367</th>\n",
       "      <td>77 95 158 221 238 252 325 349 353 471 472 481...</td>\n",
       "    </tr>\n",
       "    <tr>\n",
       "      <th>1675</th>\n",
       "      <td>26 109 130 163 199 339 346 368 396 434 439 47...</td>\n",
       "    </tr>\n",
       "  </tbody>\n",
       "</table>\n",
       "</div>"
      ],
      "text/plain": [
       "                                                 visits\n",
       "id                                                     \n",
       "3      51 143 173 257 446 491 504 510 559 616 719 73...\n",
       "22     41 51 122 186 235 304 349 528 532 545 647 685...\n",
       "86     53 73 124 149 167 211 305 415 470 515 551 642...\n",
       "726    116 193 263 291 298 328 389 406 444 445 467 5...\n",
       "748    2 99 127 128 151 194 215 216 245 439 441 464 ...\n",
       "956    62 163 265 269 332 360 369 374 422 501 514 51...\n",
       "1367   77 95 158 221 238 252 325 349 353 471 472 481...\n",
       "1675   26 109 130 163 199 339 346 368 396 434 439 47..."
      ]
     },
     "execution_count": 66,
     "metadata": {},
     "output_type": "execute_result"
    }
   ],
   "source": [
    "df.loc[old_ind]"
   ]
  },
  {
   "cell_type": "markdown",
   "metadata": {},
   "source": [
    "# Experiments: fast algorithm"
   ]
  },
  {
   "cell_type": "code",
   "execution_count": 179,
   "metadata": {},
   "outputs": [
    {
     "name": "stdout",
     "output_type": "stream",
     "text": [
      "[1, 2, 3, 4, 5, 6, 7, 8, 9, 10]\n",
      "n_weeks = 2\n",
      "{1: 1, 2: 1, 3: 1, 4: 1, 5: 1, 6: 1, 7: 1, 8: 2, 9: 2, 10: 2}\n"
     ]
    }
   ],
   "source": [
    "from copy import copy\n",
    "visits = [1, 2, 3, 4, 5, 6, 7, 8, 9, 10]\n",
    "print(visits)\n",
    "d_cur = visits[0]\n",
    "num_of_week = {d_cur : 1}\n",
    "n_weeks = 1\n",
    "for d in visits[1:]:\n",
    "    # if not at the same week\n",
    "    if not((d - d_cur) < 7) and (d - 1 % 7) - (d_cur - 1 % 7) > 0:\n",
    "        n_weeks += 1\n",
    "        d_cur = copy(d)\n",
    "    num_of_week[d] = n_weeks\n",
    "print(\"n_weeks =\", n_weeks)\n",
    "print(num_of_week)"
   ]
  },
  {
   "cell_type": "code",
   "execution_count": 260,
   "metadata": {},
   "outputs": [
    {
     "name": "stdout",
     "output_type": "stream",
     "text": [
      "w.sum() =  12.999999999999998\n",
      "w_sum = 1.0\n",
      "p = [0.06461538 0.26153846 0.03384615 0.27384615 0.09538462 0.18461538\n",
      " 0.26461538]\n"
     ]
    }
   ],
   "source": [
    "\n",
    "weeks = range(1, n_weeks+1)\n",
    "w = np.array([(n_weeks - i + 1)/n_weeks for i in weeks])\n",
    "print(\"w.sum() = \",w.sum())\n",
    "w = w / w.sum()\n",
    "\n",
    "p = np.zeros(days_in_week)\n",
    "for day in visits:\n",
    "    day_in_week = (day-1)%days_in_week + 1\n",
    "    w_i = w[num_of_week[day] - 1]\n",
    "    p[day_in_week - 1] += w_i\n",
    "#     print(\"day = \", day, \", day_in_week =\", day_in_week, \", num_of_week = \", num_of_week[day], \", w_i = \", w_i)\n",
    "    \n",
    "print(\"w_sum =\",w.sum())\n",
    "print(\"p =\", p)\n",
    "# p = [0.06461538 0.26153846 0.03384615 0.27384615 0.09538462 0.18461538\n",
    "#  0.26461538]"
   ]
  },
  {
   "cell_type": "code",
   "execution_count": null,
   "metadata": {},
   "outputs": [],
   "source": []
  }
 ],
 "metadata": {
  "kernelspec": {
   "display_name": "Python 3",
   "language": "python",
   "name": "python3"
  },
  "language_info": {
   "codemirror_mode": {
    "name": "ipython",
    "version": 3
   },
   "file_extension": ".py",
   "mimetype": "text/x-python",
   "name": "python",
   "nbconvert_exporter": "python",
   "pygments_lexer": "ipython3",
   "version": "3.8.2"
  }
 },
 "nbformat": 4,
 "nbformat_minor": 4
}
